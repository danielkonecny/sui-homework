{
 "cells": [
  {
   "cell_type": "markdown",
   "metadata": {},
   "source": [
    "Vítejte u domácí úlohy do SUI.\n",
    "V rámci úlohy Vás čeká několik cvičení, v nichž budete doplňovat poměrně malé fragmenty kódu, místo na ně je vyznačené jako `pass` nebo `None`.\n",
    "Pokud se v buňce s kódem již něco nachází, využijte/neničte to.\n",
    "V dvou případech se očekává textová odpověď, tu uvedete přímo do zadávající buňky.\n",
    "Buňky nerušte ani nepřidávejte.\n",
    "\n",
    "Maximálně využívejte `numpy` a `torch` pro hromadné operace na celých polích.\n",
    "S výjimkou generátoru minibatchí by se nikde neměl objevit cyklus jdoucí přes jednotlivé příklady.\n",
    "\n",
    "U všech cvičení je uveden počet bodů za funkční implementaci a orientační počet potřebných řádků.\n",
    "Berte ho prosím opravdu jako orientační, pozornost mu věnujte pouze, pokud ho významně překračujete.\n",
    "Mnoho zdaru!"
   ]
  },
  {
   "cell_type": "markdown",
   "metadata": {},
   "source": [
    "# Informace o vzniku řešení\n",
    "Vyplňte následující údaje **(3 údaje, 0 bodů)**\n",
    "\n",
    "* Jméno autora: Daniel Konečný\n",
    "* Login autora: xkonec75\n",
    "* Datum vzniku: 20. 10. 2020"
   ]
  },
  {
   "cell_type": "code",
   "execution_count": 150,
   "metadata": {},
   "outputs": [],
   "source": [
    "import numpy as np\n",
    "import copy\n",
    "import matplotlib.pyplot as plt\n",
    "import scipy.stats"
   ]
  },
  {
   "cell_type": "markdown",
   "metadata": {},
   "source": [
    "# Přípravné práce\n",
    "Prvním úkolem v této domácí úloze je načíst data, s nimiž budete pracovat.\n",
    "Vybudujte jednoduchou třídu, která se umí zkonstruovat z cesty k negativním a pozitivním příkladům, a bude poskytovat:\n",
    "- pozitivní a negativní příklady (`dataset.pos`, `dataset.neg` o rozměrech [N, 7])\n",
    "- všechny příklady a odpovídající třídy (`dataset.xs` o rozměru [N, 7], `dataset.targets` o rozměru [N])\n",
    "\n",
    "K načítání dat doporučujeme využít `np.loadtxt()`.\n",
    "Netrapte se se zapouzdřování a gettery, berte třídu jako Plain Old Data.\n",
    "\n",
    "Načtěte trénovací (`{positives,negatives}.trn`), validační (`{positives,negatives}.val`) a testovací (`{positives,negatives}.tst`) dataset, pojmenujte je po řadě (`train_dataset`, `val_dataset`, `test_dataset`). \n",
    "\n",
    "**(6+3 řádků, 1 bod)** \n"
   ]
  },
  {
   "cell_type": "code",
   "execution_count": 151,
   "metadata": {},
   "outputs": [
    {
     "name": "stdout",
     "output_type": "stream",
     "text": [
      "positives (2280, 7)\n",
      "negatives (6841, 7)\n",
      "xs (9121, 7)\n",
      "targets (9121,)\n"
     ]
    }
   ],
   "source": [
    "class Dataset:\n",
    "    def __init__(self, data_type):\n",
    "        self.pos = np.loadtxt(f'positives.{data_type}')\n",
    "        self.neg = np.loadtxt(f'negatives.{data_type}')\n",
    "        self.xs = np.vstack((self.pos, self.neg))\n",
    "        self.targets = np.hstack((np.ones(len(self.pos)), np.zeros(len(self.neg))))\n",
    "\n",
    "train_dataset = Dataset('trn')\n",
    "val_dataset = Dataset('val')\n",
    "test_dataset = Dataset('tst')\n",
    "\n",
    "print('positives', train_dataset.pos.shape)\n",
    "print('negatives', train_dataset.neg.shape)\n",
    "print('xs', train_dataset.xs.shape)\n",
    "print('targets', train_dataset.targets.shape)"
   ]
  },
  {
   "cell_type": "markdown",
   "metadata": {},
   "source": [
    "V řadě následujících cvičení budete pracovat s jedním konkrétním příznakem. Naimplementujte pro začátek funkci, která vykreslí histogram rozložení pozitivních a negativních příkladů (`plt.hist()`). Nezapomeňte na legendu, ať je v grafu jasné, které jsou které. Funkci zavolejte dvakrát, vykreslete histogram příznaku `5` -- tzn. šestého ze sedmi -- pro trénovací a validační data **(5 řádků, 1 bod)**."
   ]
  },
  {
   "cell_type": "code",
   "execution_count": 152,
   "metadata": {},
   "outputs": [
    {
     "data": {
      "image/png": "[encoded data removed]",
      "text/plain": [
       "<Figure size 432x288 with 1 Axes>"
      ]
     },
     "metadata": {
      "needs_background": "light"
     },
     "output_type": "display_data"
    },
    {
     "data": {
      "image/png": "[encoded data removed]",
      "text/plain": [
       "<Figure size 432x288 with 1 Axes>"
      ]
     },
     "metadata": {
      "needs_background": "light"
     },
     "output_type": "display_data"
    }
   ],
   "source": [
    "FOI = 5  # Feature Of Interest\n",
    "\n",
    "def plot_data(poss, negs):\n",
    "    plt.hist(poss, alpha=0.5, label='positives')\n",
    "    plt.hist(negs, alpha=0.5, label='negatives')\n",
    "    plt.legend()\n",
    "    plt.title('Feature 5 of samples')\n",
    "    plt.show()\n",
    "\n",
    "plot_data(train_dataset.pos[:, FOI], train_dataset.neg[:, FOI])\n",
    "plot_data(val_dataset.pos[:, FOI], val_dataset.neg[:, FOI])"
   ]
  },
  {
   "cell_type": "markdown",
   "metadata": {},
   "source": [
    "### Evaluace klasifikátorů\n",
    "Než přistoupíte k tvorbě jednotlivých klasifikátorů, vytvořte funkci pro jejich vyhodnocování.\n",
    "Nechť se jmenuje `evaluate` a přijímá po řadě klasifikátor, pole dat (o rozměrech [N] nebo [N, F]) a pole tříd ([N]).\n",
    "Jejím výstupem bude _přesnost_, tzn. podíl správně klasifikovaných příkladů.\n",
    "\n",
    "Předpokládejte, že klasifikátor poskytuje metodu `.prob_class_1(data)`, která vrací pole posteriorních pravděpodobností třídy 1 (tj. p(y=1|x)) pro daná data.\n",
    "Evaluační funkce bude muset provést tvrdé prahování (na hodnotě 0.5) těchto pravděpodobností a srovnání získaných rozhodnutí s referenčními třídami.\n",
    "Využijte fakt, že `numpy`ovská pole lze mj. porovnávat mezi sebou i se skalárem.\n",
    "\n",
    "**(3 řádky, 1 bod)**"
   ]
  },
  {
   "cell_type": "code",
   "execution_count": 153,
   "metadata": {},
   "outputs": [
    {
     "name": "stdout",
     "output_type": "stream",
     "text": [
      "0.6666666666666666\n"
     ]
    }
   ],
   "source": [
    "def evaluate(classifier, inputs, targets):\n",
    "    classification = (classifier.prob_class_1(inputs) > 0.5) == (targets == 1)\n",
    "    return np.count_nonzero(classification == True) / len(targets)\n",
    "\n",
    "class Dummy:\n",
    "    def prob_class_1(self, xs):\n",
    "        return np.asarray([0.2, 0.7, 0.7])\n",
    "\n",
    "print(evaluate(Dummy(), None, np.asarray([0, 0, 1])))  # should be 0.66..."
   ]
  },
  {
   "cell_type": "markdown",
   "metadata": {},
   "source": [
    "### Baseline\n",
    "Vytvořte klasifikátor, který ignoruje vstupní hodnotu dat.\n",
    "Jenom v konstruktoru dostane třídu, kterou má dávat jako tip pro libovolný vstup.\n",
    "Nezapomeňte, že jeho metoda `.prob_class_1(data)` musí vracet pole správné velikosti, využijte `np.ones` nebo `np.full`.\n",
    "\n",
    "**(4 řádky, 1 bod)**"
   ]
  },
  {
   "cell_type": "code",
   "execution_count": 154,
   "metadata": {},
   "outputs": [
    {
     "name": "stdout",
     "output_type": "stream",
     "text": [
      "Baseline val acc: 0.75\n"
     ]
    }
   ],
   "source": [
    "class PriorClassifier:\n",
    "    def __init__(self, default_class):\n",
    "        self.default_class = default_class\n",
    "\n",
    "    def prob_class_1(self, xs):\n",
    "        return np.full(xs.shape, self.default_class)\n",
    "\n",
    "baseline = PriorClassifier(0)\n",
    "val_acc = evaluate(baseline, val_dataset.xs[:, FOI], val_dataset.targets)\n",
    "print('Baseline val acc:', val_acc)"
   ]
  },
  {
   "cell_type": "markdown",
   "metadata": {},
   "source": [
    "# Generativní klasifikátory\n",
    "V této  části vytvoříte dva generativní klasifikátory, oba založené na Gaussovu rozložení pravděpodobnosti.\n",
    "\n",
    "Začněte implementací funce, která pro daná 1-D data vrátí Maximum Likelihood odhad střední hodnoty a směrodatné odchylky Gaussova rozložení, které data modeluje.\n",
    "Funkci využijte pro natrénovaní dvou modelů: pozitivních a negativních příkladů.\n",
    "Získané parametry -- tzn. střední hodnoty a směrodatné odchylky -- vypište.\n",
    "\n",
    "**(5 řádků, 0.5 bodu)**"
   ]
  },
  {
   "cell_type": "code",
   "execution_count": 155,
   "metadata": {},
   "outputs": [
    {
     "name": "stdout",
     "output_type": "stream",
     "text": [
      "Positive train samples:\n",
      "- mean = 0.47843\n",
      "- std = 0.12972\n",
      "Negative train samples:\n",
      "- mean = 0.17454\n",
      "- std = 0.17896\n"
     ]
    }
   ],
   "source": [
    "def get_gauss_params(data):\n",
    "    return np.mean(data), np.std(data)\n",
    "\n",
    "pos_mean, pos_std = get_gauss_params(train_dataset.pos[:, FOI])\n",
    "neg_mean, neg_std = get_gauss_params(train_dataset.neg[:, FOI])\n",
    "print(f'Positive train samples:\\n- mean = {pos_mean:.05f}\\n- std = {pos_std:.05f}')\n",
    "print(f'Negative train samples:\\n- mean = {neg_mean:.05f}\\n- std = {neg_std:.05f}')"
   ]
  },
  {
   "cell_type": "markdown",
   "metadata": {},
   "source": [
    "Ze získaných parametrů vytvořte `scipy`ovská gaussovská rozložení `scipy.stats.norm`.\n",
    "S využitím jejich metody `.pdf()` vytvořte graf, v němž srovnáte skutečné a modelové rozložení pozitivních a negativních příkladů.\n",
    "Rozsah x-ové osy volte od -0.5 do 1.5 (využijte `np.linspace`) a u volání `plt.hist()` nezapomeňte nastavit `density=True`, aby byl histogram normalizovaný a dal se srovnávat s modelem.\n",
    "\n",
    "**(2+8 řádků, 1 bod)**"
   ]
  },
  {
   "cell_type": "code",
   "execution_count": 156,
   "metadata": {},
   "outputs": [
    {
     "data": {
      "image/png": "[encoded data removed]",
      "text/plain": [
       "<Figure size 432x288 with 1 Axes>"
      ]
     },
     "metadata": {
      "needs_background": "light"
     },
     "output_type": "display_data"
    }
   ],
   "source": [
    "gauss_pos = scipy.stats.norm(pos_mean, pos_std)\n",
    "gauss_neg = scipy.stats.norm(neg_mean, neg_std)\n",
    "\n",
    "axis_range = np.linspace(-0.5, 1.5)\n",
    "plt.plot(axis_range, gauss_pos.pdf(axis_range), color='blue', label='positives')\n",
    "plt.plot(axis_range, gauss_neg.pdf(axis_range), color='red', label='negatives')\n",
    "plt.hist(train_dataset.pos[:, FOI], density=True, alpha=0.5, color='blue')\n",
    "plt.hist(train_dataset.neg[:, FOI], density=True, alpha=0.5, color='red')\n",
    "plt.legend()\n",
    "plt.title('Feature 5 of training samples with gaussian distribution')\n",
    "plt.show()"
   ]
  },
  {
   "cell_type": "markdown",
   "metadata": {},
   "source": [
    "Naimplementujte binární generativní klasifikátor. \n",
    "Při konstrukci přijímá dvě rozložení poskytující metodu `.pdf()` a odpovídající apriorní pravděpodobnost tříd.\n",
    "Jako všechny klasifikátory v této domácí úloze poskytuje metodu `prob_class_1()`.\n",
    "\n",
    "**(9 řádků, 2 body)**"
   ]
  },
  {
   "cell_type": "code",
   "execution_count": 157,
   "metadata": {},
   "outputs": [],
   "source": [
    "class BinaryClassifier:\n",
    "    def __init__(self, classifier0, classifier1, prior):\n",
    "        self.classifier0 = classifier0\n",
    "        self.classifier1 = classifier1\n",
    "        self.p_0 = prior\n",
    "\n",
    "    def prob_class_1(self, xs):\n",
    "        p_0 = self.p_0                      # Prior probability of class 0\n",
    "        p_1 = 1 - self.p_0                  # Prior probability of class 1\n",
    "        p_x_0 = self.classifier0.pdf(xs)    # Probability of sample coming from class 0\n",
    "        p_x_1 = self.classifier1.pdf(xs)    # Probability of sample coming from class 1\n",
    "        p_x = (p_x_0 * p_0) + (p_x_1 * p_1) # Probability of sample\n",
    "        p_1_x = (p_x_1 * p_1) / p_x         # Probability of class 1 given a sample (Bayes rule)\n",
    "        return p_1_x"
   ]
  },
  {
   "cell_type": "markdown",
   "metadata": {},
   "source": [
    "Nainstancujte dva generativní klasifikátory: jeden s rovnoměrnými priory a jeden s apriorní pravděpodobností 0.75 pro třídu 0 (negativní příklady).\n",
    "Pomocí funkce `evaluate()` vyhodnoťte jejich úspěšnost na validačních datech.\n",
    "\n",
    "**(2 řádky, 1 bod)**"
   ]
  },
  {
   "cell_type": "code",
   "execution_count": 158,
   "metadata": {},
   "outputs": [
    {
     "name": "stdout",
     "output_type": "stream",
     "text": [
      "flat: 0.809\n",
      "full: 0.8475\n"
     ]
    }
   ],
   "source": [
    "classifier_flat_prior = BinaryClassifier(gauss_neg, gauss_pos, 0.5)\n",
    "classifier_full_prior = BinaryClassifier(gauss_neg, gauss_pos, 0.75)\n",
    "\n",
    "print('flat:', evaluate(classifier_flat_prior, val_dataset.xs[:, FOI], val_dataset.targets))\n",
    "print('full:', evaluate(classifier_full_prior, val_dataset.xs[:, FOI], val_dataset.targets))"
   ]
  },
  {
   "cell_type": "markdown",
   "metadata": {},
   "source": [
    "Vykreslete průběh posteriorní pravděpodobnosti třídy 1 jako funkci příznaku 5 pro oba klasifikátory, opět v rozsahu <-0.5; 1.5>.\n",
    "Do grafu zakreslete i histogramy rozložení trénovacích dat, opět s `density=True` pro zachování dynamického rozsahu.\n",
    "\n",
    "**(8 řádků, 1 bod)**"
   ]
  },
  {
   "cell_type": "code",
   "execution_count": 159,
   "metadata": {},
   "outputs": [
    {
     "data": {
      "image/png": "[encoded data removed]",
      "text/plain": [
       "<Figure size 432x288 with 1 Axes>"
      ]
     },
     "metadata": {
      "needs_background": "light"
     },
     "output_type": "display_data"
    }
   ],
   "source": [
    "axis_range = np.linspace(-0.5, 1.5)\n",
    "plt.plot(axis_range, classifier_flat_prior.prob_class_1(axis_range),\n",
    "         color='#01579B', label='positives (prior=0.5) classifier')\n",
    "plt.plot(axis_range, classifier_full_prior.prob_class_1(axis_range),\n",
    "         color='#039BE5', label='positives (prior=0.25) classifier')\n",
    "plt.hist(train_dataset.pos[:, FOI], density=True, alpha=0.5, color='blue', label='positives')\n",
    "plt.hist(train_dataset.neg[:, FOI], density=True, alpha=0.5, color='red', label='negatives')\n",
    "plt.legend()\n",
    "plt.title('Feature 5 of training samples with binary classifier distribution')\n",
    "plt.show()"
   ]
  },
  {
   "cell_type": "markdown",
   "metadata": {},
   "source": [
    "Interpretujte, přímo v této textové buňce, každou rozhodovací hranici, která je v grafu patrná **(3 věty, 2 body)**:\n",
    "* Rozhodovací hranici určují modré funkce tvořené výstupy binárních klasifikátorů. Pokud jejich hodnota přesáhne 0.5, je vzorek klasifikovaný jako patřící do třídy pozitivních dat. Zvyšováním váhy třídy negativních dat se rozhodovací hranice stává \"přísnější\" pro data klasifikovaná jako pozitivní -- musí být jednoznačněji rozpoznatelná.\n",
    "* Do hodnoty přibližně 0.3 (na ose x) převažují viditelně negativní data, co však už není tak dobře viditelné je, že v hodnotě přibližně 1.3 a dále se začnou data znovu klasifikovat jako negativní (za předpokladu rovných vah). Toto je způsobeno tím, že gaussovy křivky modelující daná data se v hodnotách 0.3 a 1.3 protínají.\n",
    "* První zmíněná rozhodovací hranice se dá také vyčíst z vykreslených histogramů, kde pozitivní začne převyšovat nad negativní kolem hodnoty 0.3.\n"
   ]
  },
  {
   "cell_type": "markdown",
   "metadata": {},
   "source": [
    "# Diskriminativní klasifikátory\n",
    "V následující části budete přímo modelovat posteriorní pravděpodobnost třídy 1.\n",
    "Modely budou založeny na PyTorchi, ten si prosím nainstalujte.\n",
    "GPU rozhodně nepotřebujete, veškeré výpočty budou velmi rychlé, ne-li bleskové.\n",
    "\n",
    "Do začátku máte poskytnutou třídu klasifikátoru z jednoho příznaku."
   ]
  },
  {
   "cell_type": "code",
   "execution_count": 160,
   "metadata": {},
   "outputs": [],
   "source": [
    "import torch\n",
    "import torch.nn.functional as F\n",
    "\n",
    "class LogisticRegression(torch.nn.Module):\n",
    "    def __init__(self):\n",
    "        super().__init__()\n",
    "        self.w = torch.nn.parameter.Parameter(torch.tensor([1.0]))\n",
    "        self.b = torch.nn.parameter.Parameter(torch.tensor([0.0]))\n",
    "        \n",
    "    def forward(self, x):\n",
    "        return torch.sigmoid(self.w*x + self.b)\n",
    "    \n",
    "    def prob_class_1(self, x):\n",
    "        prob = self(torch.from_numpy(x))\n",
    "        return prob.detach().numpy()"
   ]
  },
  {
   "cell_type": "markdown",
   "metadata": {},
   "source": [
    "Pro trénovaní diskriminativních modelů budete potřebovat minibatche.\n",
    "Implementujte funkci, která je bude z daných vstupních a cílových hodnot vytvářet.\n",
    "Výsledkem musí být možno iterovat, ideálně funkci napište jako generátor (využijte klíčové slovo `yield`).\n",
    "Jednotlivé prvky výstupu budou dvojice PyTorchových `FloatTensor`ů (musíte zkonvertovat z numpy a nastavit typ) -- první prvek vstupní data, druhý očekávané výstupy.\n",
    "Počítejte s tím, že vstup bude `numpy`ovské pole, rozumná implementace využije `np.random.permutation()` a [Advanced Indexing](https://numpy.org/doc/stable/reference/arrays.indexing.html).\n",
    "\n",
    "Připravený kód funkci použije na konstrukci tří minibatchí pro trénování identity, měli byste vidět celkem pět prvků náhodně uspořádaných do dvojic, ovšem s tím, že s sebou budou mít odpovídající výstupy.\n",
    "\n",
    "**(6 řádků, 2 body)**"
   ]
  },
  {
   "cell_type": "code",
   "execution_count": 161,
   "metadata": {},
   "outputs": [
    {
     "name": "stdout",
     "output_type": "stream",
     "text": [
      "x: tensor([1., 2.]), t: tensor([1., 2.])\n",
      "x: tensor([3., 4.]), t: tensor([3., 4.])\n",
      "x: tensor([5.]), t: tensor([5.])\n"
     ]
    }
   ],
   "source": [
    "def batch_provider(xs, targets, batch_size=10):\n",
    "    shuffle = np.random.permutation(targets.size)\n",
    "    for i in range(0, len(shuffle), batch_size):\n",
    "        batch_indices = shuffle[i:i+batch_size]\n",
    "        yield torch.from_numpy(xs[batch_indices]).float(), \\\n",
    "              torch.from_numpy(targets[batch_indices]).float()\n",
    "\n",
    "inputs = np.asarray([1.0, 2.0, 3.0, 4.0, 5.0])\n",
    "targets = np.asarray([1.0, 2.0, 3.0, 4.0, 5.0])\n",
    "for x, t in batch_provider(inputs, targets, 2):\n",
    "    print(f'x: {x}, t: {t}')"
   ]
  },
  {
   "cell_type": "markdown",
   "metadata": {},
   "source": [
    "Dalším krokem je implementovat funkci, která model vytvoří a natrénuje.\n",
    "Jejím výstupem bude (1) natrénovaný model, (2) průběh trénovací loss a (3) průběh validační přesnosti.\n",
    "Jako model vracejte ten, který dosáhne nejlepší validační přesnosti.\n",
    "Jako loss použijte binární cross-entropii (`F.binary_cross_entropy()`), akumulujte ji přes minibatche a logujte průměr.\n",
    "Pro výpočet validační přesnosti využijte funkci `evaluate()`.\n",
    "Oba průběhy vracejte jako obyčejné seznamy.\n",
    "\n",
    "V implementaci budete potřebovat dvě zanořené smyčky: jednu pro epochy (průchody přes celý dataset) a uvnitř druhou, která bude iterovat přes jednotlivé minibatche.\n",
    "Na konci každé epochy vyhodnoťte model na validačních datech.\n",
    "K datasetům (trénovacímu a validačnímu) přistupujte bezostyšně jako ke globálním proměnným.\n",
    "\n",
    "**(cca 14 řádků, 3 body)**"
   ]
  },
  {
   "cell_type": "code",
   "execution_count": 162,
   "metadata": {
    "pycharm": {
     "name": "#%%\n"
    }
   },
   "outputs": [],
   "source": [
    "def train_llr(model, optimizer, train_xs, val_xs, nb_epochs=100, batch_size=256):\n",
    "    best_model = copy.deepcopy(model)\n",
    "    losses = []\n",
    "    accuracies = []\n",
    "\n",
    "    for epoch_index in range(nb_epochs):\n",
    "        accumulated_loss = 0\n",
    "        for batch_x, batch_target in batch_provider(train_xs, train_dataset.targets,batch_size):\n",
    "            optimizer.zero_grad()\n",
    "            output = model(batch_x)\n",
    "            last_loss = F.binary_cross_entropy(output, batch_target)\n",
    "            last_loss.backward()\n",
    "            optimizer.step()\n",
    "            accumulated_loss += last_loss\n",
    "\n",
    "        last_accuracy = evaluate(model, val_xs, val_dataset.targets)\n",
    "        if all(accuracy < last_accuracy for accuracy in accuracies):\n",
    "            best_model = copy.deepcopy(model)\n",
    "        accuracies.append(last_accuracy)\n",
    "        losses.append(accumulated_loss / (len(train_dataset.xs) // batch_size))\n",
    "        print(f'Epoch {epoch_index} - accuracy: {last_accuracy}')\n",
    "\n",
    "    return best_model, losses, accuracies"
   ]
  },
  {
   "cell_type": "markdown",
   "metadata": {},
   "source": [
    "Funkci zavolejte a natrénujte model.\n",
    "Uveďte zde parametry, které vám dají slušný výsledek.\n",
    "Měli byste dostat přesnost srovnatelnou s generativním klasifikátorem s nastavenými priory.\n",
    "Neměli byste potřebovat víc než 100 epoch.\n",
    "Vykreslete průběh trénovací loss a validační přesnosti, osu x značte v epochách.\n",
    "\n",
    "V druhém grafu vykreslete histogramy trénovacích dat a pravděpodobnost třídy 1 pro x od -0.5 do 1.5, podobně jako výše u generativních klasifikátorů.\n",
    "Při výpočtu výstupů využijte `with torch.no_grad():`.\n",
    "**(1 + 6 + 9 řádků, 1 bod)**"
   ]
  },
  {
   "cell_type": "code",
   "execution_count": 163,
   "metadata": {},
   "outputs": [
    {
     "name": "stdout",
     "output_type": "stream",
     "text": [
      "Epoch 0 - accuracy: 0.536\n",
      "Epoch 1 - accuracy: 0.536\n",
      "Epoch 2 - accuracy: 0.536\n",
      "Epoch 3 - accuracy: 0.5375\n",
      "Epoch 4 - accuracy: 0.5435\n",
      "Epoch 5 - accuracy: 0.5525\n",
      "Epoch 6 - accuracy: 0.5575\n",
      "Epoch 7 - accuracy: 0.5625\n",
      "Epoch 8 - accuracy: 0.572\n",
      "Epoch 9 - accuracy: 0.5835\n",
      "Epoch 10 - accuracy: 0.5965\n",
      "Epoch 11 - accuracy: 0.6095\n",
      "Epoch 12 - accuracy: 0.616\n",
      "Epoch 13 - accuracy: 0.6315\n",
      "Epoch 14 - accuracy: 0.644\n",
      "Epoch 15 - accuracy: 0.659\n",
      "Epoch 16 - accuracy: 0.667\n",
      "Epoch 17 - accuracy: 0.681\n",
      "Epoch 18 - accuracy: 0.683\n",
      "Epoch 19 - accuracy: 0.7035\n",
      "Epoch 20 - accuracy: 0.7085\n",
      "Epoch 21 - accuracy: 0.7185\n",
      "Epoch 22 - accuracy: 0.727\n",
      "Epoch 23 - accuracy: 0.735\n",
      "Epoch 24 - accuracy: 0.763\n",
      "Epoch 25 - accuracy: 0.7645\n",
      "Epoch 26 - accuracy: 0.774\n",
      "Epoch 27 - accuracy: 0.776\n",
      "Epoch 28 - accuracy: 0.7905\n",
      "Epoch 29 - accuracy: 0.8\n",
      "Epoch 30 - accuracy: 0.804\n",
      "Epoch 31 - accuracy: 0.8075\n",
      "Epoch 32 - accuracy: 0.809\n",
      "Epoch 33 - accuracy: 0.83\n",
      "Epoch 34 - accuracy: 0.8305\n",
      "Epoch 35 - accuracy: 0.831\n",
      "Epoch 36 - accuracy: 0.834\n",
      "Epoch 37 - accuracy: 0.836\n",
      "Epoch 38 - accuracy: 0.84\n",
      "Epoch 39 - accuracy: 0.8425\n",
      "Epoch 40 - accuracy: 0.843\n",
      "Epoch 41 - accuracy: 0.8475\n",
      "Epoch 42 - accuracy: 0.848\n",
      "Epoch 43 - accuracy: 0.849\n",
      "Epoch 44 - accuracy: 0.8475\n",
      "Epoch 45 - accuracy: 0.847\n",
      "Epoch 46 - accuracy: 0.845\n",
      "Epoch 47 - accuracy: 0.8435\n",
      "Epoch 48 - accuracy: 0.844\n",
      "Epoch 49 - accuracy: 0.844\n",
      "Epoch 50 - accuracy: 0.842\n",
      "Epoch 51 - accuracy: 0.84\n",
      "Epoch 52 - accuracy: 0.84\n",
      "Epoch 53 - accuracy: 0.84\n",
      "Epoch 54 - accuracy: 0.8305\n",
      "Epoch 55 - accuracy: 0.8305\n",
      "Epoch 56 - accuracy: 0.8305\n",
      "Epoch 57 - accuracy: 0.8305\n",
      "Epoch 58 - accuracy: 0.8285\n",
      "Epoch 59 - accuracy: 0.8275\n",
      "Epoch 60 - accuracy: 0.825\n",
      "Epoch 61 - accuracy: 0.815\n",
      "Epoch 62 - accuracy: 0.807\n",
      "Epoch 63 - accuracy: 0.8055\n",
      "Epoch 64 - accuracy: 0.8055\n",
      "Epoch 65 - accuracy: 0.7945\n",
      "Epoch 66 - accuracy: 0.793\n",
      "Epoch 67 - accuracy: 0.7915\n",
      "Epoch 68 - accuracy: 0.7905\n",
      "Epoch 69 - accuracy: 0.785\n"
     ]
    },
    {
     "data": {
      "image/png": "[encoded data removed]",
      "text/plain": [
       "<Figure size 432x288 with 1 Axes>"
      ]
     },
     "metadata": {
      "needs_background": "light"
     },
     "output_type": "display_data"
    },
    {
     "data": {
      "image/png": "[encoded data removed]",
      "text/plain": [
       "<Figure size 432x288 with 1 Axes>"
      ]
     },
     "metadata": {
      "needs_background": "light"
     },
     "output_type": "display_data"
    }
   ],
   "source": [
    "model = LogisticRegression()\n",
    "optimizer = torch.optim.SGD(model.parameters(), lr=1e-3)\n",
    "train_xs = train_dataset.xs[:, FOI]\n",
    "val_xs = val_dataset.xs[:, FOI]\n",
    "epoch_count = 70\n",
    "batch_size = 256\n",
    "\n",
    "llr_foi_model, losses, accuracies =\\\n",
    "    train_llr(model, optimizer, train_xs, val_xs, epoch_count, batch_size)\n",
    "\n",
    "axis_range = np.linspace(0, epoch_count, epoch_count)\n",
    "plt.plot(axis_range, losses, color='purple', label='loss')\n",
    "plt.plot(axis_range, accuracies, color='green', label='accuracy')\n",
    "plt.legend()\n",
    "plt.title('Training progress')\n",
    "plt.show()\n",
    "\n",
    "axis_range = np.linspace(-0.5, 1.5)\n",
    "llr_foi_model.eval()\n",
    "with torch.no_grad():\n",
    "    output = llr_foi_model(axis_range)\n",
    "plt.plot(axis_range, output, color='blue', label='positives classifier')\n",
    "plt.hist(train_dataset.pos[:, FOI], density=True, alpha=0.5, color='blue', label='positives')\n",
    "plt.hist(train_dataset.neg[:, FOI], density=True, alpha=0.5, color='red', label='negatives')\n",
    "plt.legend()\n",
    "plt.title('Feature 5 of training samples with logistic regression classifier')\n",
    "plt.show()"
   ]
  },
  {
   "cell_type": "markdown",
   "metadata": {},
   "source": [
    "## Všechny vstupní příznaky\n",
    "V posledním cvičení natrénujete logistickou regresi, která využije všech sedm vstupních příznaků.\n",
    "\n",
    "Prvním krokem je naimplementovat příslusný model.\n",
    "Bezostyšně zkopírujte tělo třídy `LogisticRegresion` a upravte ji tak, aby zvládala libovolný počet vstupů, využijte `torch.nn.Linear`.\n",
    "U výstupu metody `.forward()` dejte pozor, aby měl výstup tvar `[N]`; pravděpodobně budete potřebovat `squeeze`.\n",
    "\n",
    "**(9 řádků, 1 bod)**"
   ]
  },
  {
   "cell_type": "code",
   "execution_count": 164,
   "metadata": {},
   "outputs": [],
   "source": [
    "class LogisticRegressionND(torch.nn.Module):\n",
    "    def __init__(self):\n",
    "        super().__init__()\n",
    "        self.linear = torch.nn.Linear(7, 1)\n",
    "\n",
    "    def forward(self, x):\n",
    "        return np.squeeze(torch.sigmoid(self.linear(x)))\n",
    "\n",
    "    def prob_class_1(self, x):\n",
    "        prob = self(torch.from_numpy(x).float())\n",
    "        return prob.detach().numpy()"
   ]
  },
  {
   "cell_type": "markdown",
   "metadata": {},
   "source": [
    "Podobně jako u jednodimenzionálni regrese implementujte funkci pro trénovaní plné logistické regrese.\n",
    "V ideálním případě vyfaktorujete společnou implementaci, které budete pouze předávat různá trénovací a validační data.\n",
    "\n",
    "Zvídaví mohou zkusit `Adam`a jako optimalizátor namísto obyčejného `SGD`.\n",
    "\n",
    "Funkci zavolejte, natrénujte model.\n",
    "Opět vykreslete průběh trénovací loss a validační přesnosti.\n",
    "Měli byste se s přesností dostat nad 90 %.\n",
    "\n",
    "**(ne víc než cca 30 řádků při kopírování, 1 bod)**"
   ]
  },
  {
   "cell_type": "code",
   "execution_count": 165,
   "metadata": {
    "pycharm": {
     "name": "#%%\n"
    }
   },
   "outputs": [
    {
     "name": "stdout",
     "output_type": "stream",
     "text": [
      "Epoch 0 - accuracy: 0.75\n",
      "Epoch 1 - accuracy: 0.738\n",
      "Epoch 2 - accuracy: 0.688\n",
      "Epoch 3 - accuracy: 0.623\n",
      "Epoch 4 - accuracy: 0.5895\n",
      "Epoch 5 - accuracy: 0.6145\n",
      "Epoch 6 - accuracy: 0.661\n",
      "Epoch 7 - accuracy: 0.7165\n",
      "Epoch 8 - accuracy: 0.7575\n",
      "Epoch 9 - accuracy: 0.8095\n",
      "Epoch 10 - accuracy: 0.85\n",
      "Epoch 11 - accuracy: 0.883\n",
      "Epoch 12 - accuracy: 0.9075\n",
      "Epoch 13 - accuracy: 0.9185\n",
      "Epoch 14 - accuracy: 0.9255\n",
      "Epoch 15 - accuracy: 0.933\n",
      "Epoch 16 - accuracy: 0.9395\n",
      "Epoch 17 - accuracy: 0.945\n",
      "Epoch 18 - accuracy: 0.947\n",
      "Epoch 19 - accuracy: 0.95\n",
      "Epoch 20 - accuracy: 0.949\n",
      "Epoch 21 - accuracy: 0.9505\n",
      "Epoch 22 - accuracy: 0.9515\n",
      "Epoch 23 - accuracy: 0.9525\n",
      "Epoch 24 - accuracy: 0.952\n",
      "Epoch 25 - accuracy: 0.9535\n",
      "Epoch 26 - accuracy: 0.9535\n",
      "Epoch 27 - accuracy: 0.953\n",
      "Epoch 28 - accuracy: 0.9535\n",
      "Epoch 29 - accuracy: 0.9555\n",
      "Epoch 30 - accuracy: 0.956\n",
      "Epoch 31 - accuracy: 0.957\n",
      "Epoch 32 - accuracy: 0.957\n",
      "Epoch 33 - accuracy: 0.9575\n",
      "Epoch 34 - accuracy: 0.9575\n",
      "Epoch 35 - accuracy: 0.958\n",
      "Epoch 36 - accuracy: 0.9585\n",
      "Epoch 37 - accuracy: 0.9585\n",
      "Epoch 38 - accuracy: 0.958\n",
      "Epoch 39 - accuracy: 0.958\n",
      "Epoch 40 - accuracy: 0.958\n",
      "Epoch 41 - accuracy: 0.958\n",
      "Epoch 42 - accuracy: 0.959\n",
      "Epoch 43 - accuracy: 0.959\n",
      "Epoch 44 - accuracy: 0.9595\n",
      "Epoch 45 - accuracy: 0.9605\n",
      "Epoch 46 - accuracy: 0.96\n",
      "Epoch 47 - accuracy: 0.9605\n",
      "Epoch 48 - accuracy: 0.961\n",
      "Epoch 49 - accuracy: 0.9615\n",
      "Epoch 50 - accuracy: 0.9615\n",
      "Epoch 51 - accuracy: 0.962\n",
      "Epoch 52 - accuracy: 0.9625\n",
      "Epoch 53 - accuracy: 0.963\n",
      "Epoch 54 - accuracy: 0.9635\n",
      "Epoch 55 - accuracy: 0.9645\n",
      "Epoch 56 - accuracy: 0.964\n",
      "Epoch 57 - accuracy: 0.965\n",
      "Epoch 58 - accuracy: 0.965\n",
      "Epoch 59 - accuracy: 0.9655\n",
      "Epoch 60 - accuracy: 0.965\n",
      "Epoch 61 - accuracy: 0.9655\n",
      "Epoch 62 - accuracy: 0.966\n",
      "Epoch 63 - accuracy: 0.966\n",
      "Epoch 64 - accuracy: 0.967\n",
      "Epoch 65 - accuracy: 0.9675\n",
      "Epoch 66 - accuracy: 0.9675\n",
      "Epoch 67 - accuracy: 0.9675\n",
      "Epoch 68 - accuracy: 0.9675\n",
      "Epoch 69 - accuracy: 0.9675\n",
      "Epoch 70 - accuracy: 0.9675\n",
      "Epoch 71 - accuracy: 0.9685\n",
      "Epoch 72 - accuracy: 0.9685\n",
      "Epoch 73 - accuracy: 0.9685\n",
      "Epoch 74 - accuracy: 0.969\n",
      "Epoch 75 - accuracy: 0.9685\n",
      "Epoch 76 - accuracy: 0.969\n",
      "Epoch 77 - accuracy: 0.9695\n",
      "Epoch 78 - accuracy: 0.969\n",
      "Epoch 79 - accuracy: 0.969\n",
      "Epoch 80 - accuracy: 0.969\n",
      "Epoch 81 - accuracy: 0.9685\n",
      "Epoch 82 - accuracy: 0.9685\n",
      "Epoch 83 - accuracy: 0.969\n",
      "Epoch 84 - accuracy: 0.9685\n",
      "Epoch 85 - accuracy: 0.969\n",
      "Epoch 86 - accuracy: 0.9695\n",
      "Epoch 87 - accuracy: 0.969\n",
      "Epoch 88 - accuracy: 0.9695\n",
      "Epoch 89 - accuracy: 0.9695\n",
      "Epoch 90 - accuracy: 0.9695\n",
      "Epoch 91 - accuracy: 0.9695\n",
      "Epoch 92 - accuracy: 0.9695\n",
      "Epoch 93 - accuracy: 0.97\n",
      "Epoch 94 - accuracy: 0.97\n",
      "Epoch 95 - accuracy: 0.97\n",
      "Epoch 96 - accuracy: 0.97\n",
      "Epoch 97 - accuracy: 0.969\n",
      "Epoch 98 - accuracy: 0.9705\n",
      "Epoch 99 - accuracy: 0.9705\n",
      "Epoch 100 - accuracy: 0.9705\n",
      "Epoch 101 - accuracy: 0.9705\n",
      "Epoch 102 - accuracy: 0.97\n",
      "Epoch 103 - accuracy: 0.9705\n",
      "Epoch 104 - accuracy: 0.97\n",
      "Epoch 105 - accuracy: 0.97\n",
      "Epoch 106 - accuracy: 0.97\n",
      "Epoch 107 - accuracy: 0.9705\n",
      "Epoch 108 - accuracy: 0.97\n",
      "Epoch 109 - accuracy: 0.97\n",
      "Epoch 110 - accuracy: 0.9705\n",
      "Epoch 111 - accuracy: 0.9705\n",
      "Epoch 112 - accuracy: 0.9705\n",
      "Epoch 113 - accuracy: 0.9715\n",
      "Epoch 114 - accuracy: 0.9705\n",
      "Epoch 115 - accuracy: 0.972\n",
      "Epoch 116 - accuracy: 0.9715\n",
      "Epoch 117 - accuracy: 0.9715\n",
      "Epoch 118 - accuracy: 0.972\n",
      "Epoch 119 - accuracy: 0.9715\n",
      "Epoch 120 - accuracy: 0.972\n",
      "Epoch 121 - accuracy: 0.972\n",
      "Epoch 122 - accuracy: 0.972\n",
      "Epoch 123 - accuracy: 0.972\n",
      "Epoch 124 - accuracy: 0.972\n",
      "Epoch 125 - accuracy: 0.972\n",
      "Epoch 126 - accuracy: 0.972\n",
      "Epoch 127 - accuracy: 0.9715\n",
      "Epoch 128 - accuracy: 0.972\n",
      "Epoch 129 - accuracy: 0.972\n",
      "Epoch 130 - accuracy: 0.9715\n",
      "Epoch 131 - accuracy: 0.9715\n",
      "Epoch 132 - accuracy: 0.9715\n",
      "Epoch 133 - accuracy: 0.9725\n",
      "Epoch 134 - accuracy: 0.9715\n",
      "Epoch 135 - accuracy: 0.972\n",
      "Epoch 136 - accuracy: 0.9725\n",
      "Epoch 137 - accuracy: 0.972\n",
      "Epoch 138 - accuracy: 0.9725\n",
      "Epoch 139 - accuracy: 0.973\n",
      "Epoch 140 - accuracy: 0.973\n",
      "Epoch 141 - accuracy: 0.973\n",
      "Epoch 142 - accuracy: 0.9735\n",
      "Epoch 143 - accuracy: 0.973\n",
      "Epoch 144 - accuracy: 0.9735\n",
      "Epoch 145 - accuracy: 0.973\n",
      "Epoch 146 - accuracy: 0.9735\n",
      "Epoch 147 - accuracy: 0.9735\n",
      "Epoch 148 - accuracy: 0.9735\n",
      "Epoch 149 - accuracy: 0.9735\n",
      "Epoch 150 - accuracy: 0.9735\n",
      "Epoch 151 - accuracy: 0.9735\n",
      "Epoch 152 - accuracy: 0.974\n",
      "Epoch 153 - accuracy: 0.9735\n",
      "Epoch 154 - accuracy: 0.973\n",
      "Epoch 155 - accuracy: 0.973\n",
      "Epoch 156 - accuracy: 0.975\n",
      "Epoch 157 - accuracy: 0.9755\n",
      "Epoch 158 - accuracy: 0.973\n",
      "Epoch 159 - accuracy: 0.9755\n",
      "Epoch 160 - accuracy: 0.975\n",
      "Epoch 161 - accuracy: 0.9755\n",
      "Epoch 162 - accuracy: 0.975\n",
      "Epoch 163 - accuracy: 0.973\n",
      "Epoch 164 - accuracy: 0.9755\n",
      "Epoch 165 - accuracy: 0.9745\n",
      "Epoch 166 - accuracy: 0.9755\n",
      "Epoch 167 - accuracy: 0.9755\n",
      "Epoch 168 - accuracy: 0.9755\n",
      "Epoch 169 - accuracy: 0.975\n",
      "Epoch 170 - accuracy: 0.9755\n",
      "Epoch 171 - accuracy: 0.975\n",
      "Epoch 172 - accuracy: 0.9755\n",
      "Epoch 173 - accuracy: 0.9745\n",
      "Epoch 174 - accuracy: 0.9745\n",
      "Epoch 175 - accuracy: 0.9765\n",
      "Epoch 176 - accuracy: 0.976\n",
      "Epoch 177 - accuracy: 0.976\n",
      "Epoch 178 - accuracy: 0.975\n",
      "Epoch 179 - accuracy: 0.9755\n",
      "Epoch 180 - accuracy: 0.9745\n",
      "Epoch 181 - accuracy: 0.9775\n",
      "Epoch 182 - accuracy: 0.9755\n",
      "Epoch 183 - accuracy: 0.9765\n",
      "Epoch 184 - accuracy: 0.976\n",
      "Epoch 185 - accuracy: 0.976\n",
      "Epoch 186 - accuracy: 0.9765\n",
      "Epoch 187 - accuracy: 0.975\n",
      "Epoch 188 - accuracy: 0.9765\n",
      "Epoch 189 - accuracy: 0.977\n",
      "Epoch 190 - accuracy: 0.977\n",
      "Epoch 191 - accuracy: 0.977\n",
      "Epoch 192 - accuracy: 0.9765\n",
      "Epoch 193 - accuracy: 0.9765\n",
      "Epoch 194 - accuracy: 0.9765\n",
      "Epoch 195 - accuracy: 0.977\n",
      "Epoch 196 - accuracy: 0.9755\n",
      "Epoch 197 - accuracy: 0.9765\n",
      "Epoch 198 - accuracy: 0.976\n",
      "Epoch 199 - accuracy: 0.977\n",
      "Epoch 200 - accuracy: 0.976\n",
      "Epoch 201 - accuracy: 0.9755\n",
      "Epoch 202 - accuracy: 0.9755\n",
      "Epoch 203 - accuracy: 0.977\n",
      "Epoch 204 - accuracy: 0.977\n",
      "Epoch 205 - accuracy: 0.977\n",
      "Epoch 206 - accuracy: 0.9755\n",
      "Epoch 207 - accuracy: 0.977\n",
      "Epoch 208 - accuracy: 0.977\n",
      "Epoch 209 - accuracy: 0.977\n",
      "Epoch 210 - accuracy: 0.976\n",
      "Epoch 211 - accuracy: 0.977\n",
      "Epoch 212 - accuracy: 0.976\n",
      "Epoch 213 - accuracy: 0.976\n",
      "Epoch 214 - accuracy: 0.9765\n",
      "Epoch 215 - accuracy: 0.976\n",
      "Epoch 216 - accuracy: 0.977\n",
      "Epoch 217 - accuracy: 0.976\n",
      "Epoch 218 - accuracy: 0.977\n",
      "Epoch 219 - accuracy: 0.977\n",
      "Epoch 220 - accuracy: 0.9775\n",
      "Epoch 221 - accuracy: 0.976\n",
      "Epoch 222 - accuracy: 0.977\n",
      "Epoch 223 - accuracy: 0.976\n",
      "Epoch 224 - accuracy: 0.976\n",
      "Epoch 225 - accuracy: 0.976\n",
      "Epoch 226 - accuracy: 0.977\n",
      "Epoch 227 - accuracy: 0.977\n",
      "Epoch 228 - accuracy: 0.977\n",
      "Epoch 229 - accuracy: 0.9775\n",
      "Epoch 230 - accuracy: 0.9765\n",
      "Epoch 231 - accuracy: 0.9765\n",
      "Epoch 232 - accuracy: 0.976\n",
      "Epoch 233 - accuracy: 0.9775\n",
      "Epoch 234 - accuracy: 0.976\n",
      "Epoch 235 - accuracy: 0.976\n",
      "Epoch 236 - accuracy: 0.9765\n",
      "Epoch 237 - accuracy: 0.976\n",
      "Epoch 238 - accuracy: 0.9765\n",
      "Epoch 239 - accuracy: 0.9775\n",
      "Epoch 240 - accuracy: 0.9765\n",
      "Epoch 241 - accuracy: 0.9765\n",
      "Epoch 242 - accuracy: 0.976\n",
      "Epoch 243 - accuracy: 0.9765\n",
      "Epoch 244 - accuracy: 0.9775\n",
      "Epoch 245 - accuracy: 0.977\n",
      "Epoch 246 - accuracy: 0.9785\n",
      "Epoch 247 - accuracy: 0.9785\n",
      "Epoch 248 - accuracy: 0.976\n",
      "Epoch 249 - accuracy: 0.9785\n",
      "Epoch 250 - accuracy: 0.977\n",
      "Epoch 251 - accuracy: 0.9785\n",
      "Epoch 252 - accuracy: 0.976\n",
      "Epoch 253 - accuracy: 0.977\n",
      "Epoch 254 - accuracy: 0.977\n",
      "Epoch 255 - accuracy: 0.977\n",
      "Epoch 256 - accuracy: 0.976\n",
      "Epoch 257 - accuracy: 0.977\n",
      "Epoch 258 - accuracy: 0.977\n",
      "Epoch 259 - accuracy: 0.978\n",
      "Epoch 260 - accuracy: 0.978\n",
      "Epoch 261 - accuracy: 0.9785\n",
      "Epoch 262 - accuracy: 0.976\n",
      "Epoch 263 - accuracy: 0.977\n",
      "Epoch 264 - accuracy: 0.978\n",
      "Epoch 265 - accuracy: 0.977\n",
      "Epoch 266 - accuracy: 0.977\n",
      "Epoch 267 - accuracy: 0.978\n",
      "Epoch 268 - accuracy: 0.977\n",
      "Epoch 269 - accuracy: 0.978\n",
      "Epoch 270 - accuracy: 0.978\n",
      "Epoch 271 - accuracy: 0.9785\n",
      "Epoch 272 - accuracy: 0.979\n",
      "Epoch 273 - accuracy: 0.978\n",
      "Epoch 274 - accuracy: 0.978\n",
      "Epoch 275 - accuracy: 0.9785\n",
      "Epoch 276 - accuracy: 0.9785\n",
      "Epoch 277 - accuracy: 0.978\n",
      "Epoch 278 - accuracy: 0.9785\n",
      "Epoch 279 - accuracy: 0.978\n",
      "Epoch 280 - accuracy: 0.978\n",
      "Epoch 281 - accuracy: 0.977\n",
      "Epoch 282 - accuracy: 0.978\n",
      "Epoch 283 - accuracy: 0.978\n",
      "Epoch 284 - accuracy: 0.978\n",
      "Epoch 285 - accuracy: 0.9785\n",
      "Epoch 286 - accuracy: 0.9785\n",
      "Epoch 287 - accuracy: 0.978\n",
      "Epoch 288 - accuracy: 0.9785\n",
      "Epoch 289 - accuracy: 0.9785\n",
      "Epoch 290 - accuracy: 0.978\n",
      "Epoch 291 - accuracy: 0.978\n",
      "Epoch 292 - accuracy: 0.978\n",
      "Epoch 293 - accuracy: 0.978\n",
      "Epoch 294 - accuracy: 0.978\n",
      "Epoch 295 - accuracy: 0.978\n",
      "Epoch 296 - accuracy: 0.978\n",
      "Epoch 297 - accuracy: 0.978\n",
      "Epoch 298 - accuracy: 0.9775\n",
      "Epoch 299 - accuracy: 0.9785\n",
      "Epoch 300 - accuracy: 0.978\n",
      "Epoch 301 - accuracy: 0.9785\n",
      "Epoch 302 - accuracy: 0.9775\n",
      "Epoch 303 - accuracy: 0.978\n",
      "Epoch 304 - accuracy: 0.9785\n",
      "Epoch 305 - accuracy: 0.9785\n",
      "Epoch 306 - accuracy: 0.978\n",
      "Epoch 307 - accuracy: 0.9785\n",
      "Epoch 308 - accuracy: 0.977\n",
      "Epoch 309 - accuracy: 0.978\n",
      "Epoch 310 - accuracy: 0.978\n",
      "Epoch 311 - accuracy: 0.978\n",
      "Epoch 312 - accuracy: 0.9785\n",
      "Epoch 313 - accuracy: 0.978\n",
      "Epoch 314 - accuracy: 0.9775\n",
      "Epoch 315 - accuracy: 0.9775\n",
      "Epoch 316 - accuracy: 0.978\n",
      "Epoch 317 - accuracy: 0.978\n",
      "Epoch 318 - accuracy: 0.978\n",
      "Epoch 319 - accuracy: 0.9785\n",
      "Epoch 320 - accuracy: 0.978\n",
      "Epoch 321 - accuracy: 0.9775\n",
      "Epoch 322 - accuracy: 0.9775\n",
      "Epoch 323 - accuracy: 0.9775\n",
      "Epoch 324 - accuracy: 0.978\n",
      "Epoch 325 - accuracy: 0.978\n",
      "Epoch 326 - accuracy: 0.9775\n",
      "Epoch 327 - accuracy: 0.9775\n",
      "Epoch 328 - accuracy: 0.978\n",
      "Epoch 329 - accuracy: 0.9775\n",
      "Epoch 330 - accuracy: 0.977\n",
      "Epoch 331 - accuracy: 0.9775\n",
      "Epoch 332 - accuracy: 0.9775\n",
      "Epoch 333 - accuracy: 0.978\n",
      "Epoch 334 - accuracy: 0.978\n",
      "Epoch 335 - accuracy: 0.9775\n",
      "Epoch 336 - accuracy: 0.978\n",
      "Epoch 337 - accuracy: 0.9775\n",
      "Epoch 338 - accuracy: 0.9775\n",
      "Epoch 339 - accuracy: 0.977\n",
      "Epoch 340 - accuracy: 0.9775\n",
      "Epoch 341 - accuracy: 0.9775\n",
      "Epoch 342 - accuracy: 0.978\n",
      "Epoch 343 - accuracy: 0.978\n",
      "Epoch 344 - accuracy: 0.9775\n",
      "Epoch 345 - accuracy: 0.978\n",
      "Epoch 346 - accuracy: 0.978\n",
      "Epoch 347 - accuracy: 0.977\n",
      "Epoch 348 - accuracy: 0.9775\n",
      "Epoch 349 - accuracy: 0.977\n",
      "Epoch 350 - accuracy: 0.977\n",
      "Epoch 351 - accuracy: 0.9775\n",
      "Epoch 352 - accuracy: 0.977\n",
      "Epoch 353 - accuracy: 0.977\n",
      "Epoch 354 - accuracy: 0.9775\n",
      "Epoch 355 - accuracy: 0.9775\n",
      "Epoch 356 - accuracy: 0.9775\n",
      "Epoch 357 - accuracy: 0.977\n",
      "Epoch 358 - accuracy: 0.977\n",
      "Epoch 359 - accuracy: 0.977\n",
      "Epoch 360 - accuracy: 0.977\n",
      "Epoch 361 - accuracy: 0.9775\n",
      "Epoch 362 - accuracy: 0.9775\n",
      "Epoch 363 - accuracy: 0.9775\n",
      "Epoch 364 - accuracy: 0.9775\n",
      "Epoch 365 - accuracy: 0.9785\n",
      "Epoch 366 - accuracy: 0.9775\n",
      "Epoch 367 - accuracy: 0.977\n",
      "Epoch 368 - accuracy: 0.9775\n",
      "Epoch 369 - accuracy: 0.977\n",
      "Epoch 370 - accuracy: 0.9775\n",
      "Epoch 371 - accuracy: 0.9775\n",
      "Epoch 372 - accuracy: 0.9775\n",
      "Epoch 373 - accuracy: 0.9775\n",
      "Epoch 374 - accuracy: 0.978\n",
      "Epoch 375 - accuracy: 0.977\n",
      "Epoch 376 - accuracy: 0.978\n",
      "Epoch 377 - accuracy: 0.9775\n",
      "Epoch 378 - accuracy: 0.977\n",
      "Epoch 379 - accuracy: 0.9775\n",
      "Epoch 380 - accuracy: 0.9775\n",
      "Epoch 381 - accuracy: 0.978\n",
      "Epoch 382 - accuracy: 0.9775\n",
      "Epoch 383 - accuracy: 0.977\n",
      "Epoch 384 - accuracy: 0.977\n",
      "Epoch 385 - accuracy: 0.978\n",
      "Epoch 386 - accuracy: 0.9765\n",
      "Epoch 387 - accuracy: 0.9775\n",
      "Epoch 388 - accuracy: 0.978\n",
      "Epoch 389 - accuracy: 0.977\n",
      "Epoch 390 - accuracy: 0.977\n",
      "Epoch 391 - accuracy: 0.9775\n",
      "Epoch 392 - accuracy: 0.977\n",
      "Epoch 393 - accuracy: 0.978\n",
      "Epoch 394 - accuracy: 0.9775\n",
      "Epoch 395 - accuracy: 0.9775\n",
      "Epoch 396 - accuracy: 0.9775\n",
      "Epoch 397 - accuracy: 0.977\n",
      "Epoch 398 - accuracy: 0.9775\n",
      "Epoch 399 - accuracy: 0.9775\n"
     ]
    },
    {
     "data": {
      "image/png": "[encoded data removed]",
      "text/plain": [
       "<Figure size 432x288 with 1 Axes>"
      ]
     },
     "metadata": {
      "needs_background": "light"
     },
     "output_type": "display_data"
    }
   ],
   "source": [
    "model = LogisticRegressionND()\n",
    "optimizer = torch.optim.Adam(model.parameters())\n",
    "train_xs = train_dataset.xs\n",
    "val_xs = val_dataset.xs\n",
    "epoch_count = 400\n",
    "batch_size = 256\n",
    "\n",
    "llr_full_model, losses, accuracies =\\\n",
    "    train_llr(model, optimizer, train_xs, val_xs, epoch_count, batch_size)\n",
    "\n",
    "axis_range = np.linspace(0, epoch_count, epoch_count)\n",
    "plt.plot(axis_range, losses, color='purple', label='loss')\n",
    "plt.plot(axis_range, accuracies, color='green', label='accuracy')\n",
    "plt.legend()\n",
    "plt.title('Training progress')\n",
    "plt.show()"
   ]
  },
  {
   "cell_type": "markdown",
   "metadata": {},
   "source": [
    "# Závěrem\n",
    "Konečně vyhodnoťte všech pět vytvořených klasifikátorů na testovacích datech. Stačí doplnit jejich názvy a předat jim příznaky, na které jsou zvyklé.\n",
    "\n",
    "**(0.5 bodu)**"
   ]
  },
  {
   "cell_type": "code",
   "execution_count": 166,
   "metadata": {},
   "outputs": [
    {
     "name": "stdout",
     "output_type": "stream",
     "text": [
      "Baseline: 0.75\n",
      "Generative classifier (w/o prior): 0.8\n",
      "Generative classifier (correct): 0.847\n",
      "Logistic regression: 0.847\n",
      "Logistic regression all features: 0.9675\n"
     ]
    }
   ],
   "source": [
    "xs_full = test_dataset.xs\n",
    "xs_foi = test_dataset.xs[:, FOI]\n",
    "targets = test_dataset.targets\n",
    "\n",
    "print('Baseline:', evaluate(baseline, xs_foi, targets))\n",
    "print('Generative classifier (w/o prior):', evaluate(classifier_flat_prior, xs_foi, targets))\n",
    "print('Generative classifier (correct):', evaluate(classifier_full_prior, xs_foi, targets))\n",
    "print('Logistic regression:', evaluate(llr_foi_model, xs_foi, targets))\n",
    "print('Logistic regression all features:', evaluate(llr_full_model, xs_full, targets))"
   ]
  },
  {
   "cell_type": "markdown",
   "metadata": {
    "pycharm": {
     "name": "#%% md\n"
    }
   },
   "source": [
    "Blahopřejeme ke zvládnutí domácí úlohy! Notebook spusťte načisto (Kernel -> Restart & Run all), vyexportuje jako PDF a odevzdejte pojmenovaný svým loginem.\n",
    "\n",
    "Mimochodem, vstupní data nejsou synteticky generovaná. Nasbírali jsme je z projektu; Vaše klasifikátory v této domácí úloze predikují, že daný hráč vyhraje; takže by se daly použít jako heuristika pro ohodnocování listových uzlů ve stavovém prostoru hry.\n",
    "Pro představu, odhadujete to z pozic pět kol před koncem partie pro daného hráče.\n",
    "Poskytnuté příznaky popisují globální charakteristiky stavu hry jako je například poměr délky hranic předmětného hráče k ostatním hranicím."
   ]
  }
 ],
 "metadata": {
  "kernelspec": {
   "display_name": "PyCharm (sui-homework)",
   "language": "python",
   "name": "pycharm-9a2a0ac4"
  },
  "language_info": {
   "codemirror_mode": {
    "name": "ipython",
    "version": 3
   },
   "file_extension": ".py",
   "mimetype": "text/x-python",
   "name": "python",
   "nbconvert_exporter": "python",
   "pygments_lexer": "ipython3",
   "version": "3.8.5"
  }
 },
 "nbformat": 4,
 "nbformat_minor": 4
}
